{
 "cells": [
  {
   "cell_type": "markdown",
   "metadata": {},
   "source": [
    "# Automate hand-written tabular content using Amazon Textract and Amazon A2I\n",
    "Organizations across industries have a large number of hand-written documents that require processing as part of their operations. Extracting data from these documents especially when there is a combination of printed and handwritten text is error-prone, time-consuming, expensive, and does not scale. Text being embedded in tables and forms adds to the extraction and processing complexity. Amazon Textract is a fully managed ML service that automatically extracts printed text, handwriting, and other data from scanned documents that goes beyond simple optical character recognition (OCR) to identify, understand, and extract data from forms and tables.\n",
    "\n",
    "Once the data and text is extracted, the post processing step in a document management workflow involves reviewing the entries and make changes as needed. Amazon A2I makes it easy to integrate a human review into your ML workflow. This allows you to automatically have humans step into your ML pipeline to review results below a confidence threshold, set up review and auditing workflows, and augment the prediction results to improve model accuracy\n",
    "\n",
    "In this notebook we show you how to use Amazon Textract to extract the content of your forms containing hand-written text, setup and send to a human review loop, and augment the extracted invoice content for downstream processing.\n",
    "\n",
    "* Step 0 - Install and import libraries\n",
    "* Step 1 - Use Amazon Textract to retrieve form content\n",
    "* Step 2 - Inspect and analyze form line items\n",
    "* Step 3 - Send to Amazon A2I human loop\n",
    "* Step 4 - Augment the forms\n",
    "* Step 5 - Store the augmented forms for downstream processing"
   ]
  },
  {
   "cell_type": "markdown",
   "metadata": {},
   "source": [
    "## Step 0 - Install and Import Libraries\n",
    "\n",
    "We will be using the [Amazon Textract Parser Library](https://github.com/aws-samples/amazon-textract-response-parser/tree/master/src-python) for parsing through the Textract response, data science library [Pandas](https://pandas.pydata.org/pandas-docs/stable/reference/api/pandas.DataFrame.html) for content analysis, the [Amazon SageMaker Python SDK](https://sagemaker.readthedocs.io/en/stable/), and [AWS boto3 python sdk](https://boto3.amazonaws.com/v1/documentation/api/latest/index.html) to work with Amazon Textract and Amazon A2I. Let's now install and import them."
   ]
  },
  {
   "cell_type": "code",
   "execution_count": null,
   "metadata": {},
   "outputs": [],
   "source": [
    "# install trp\n",
    "!pip install amazon-textract-response-parser"
   ]
  },
  {
   "cell_type": "code",
   "execution_count": null,
   "metadata": {
    "scrolled": true
   },
   "outputs": [],
   "source": [
    "import pandas as pd\n",
    "import webbrowser, os\n",
    "import json\n",
    "import boto3\n",
    "import re\n",
    "import sagemaker\n",
    "from sagemaker import get_execution_role\n",
    "from sagemaker.s3 import S3Uploader, S3Downloader\n",
    "import uuid\n",
    "import time\n",
    "import io\n",
    "from io import BytesIO\n",
    "import sys\n",
    "import csv\n",
    "from pprint import pprint\n",
    "from IPython.display import Image, display\n",
    "from PIL import Image as PImage, ImageDraw"
   ]
  },
  {
   "cell_type": "markdown",
   "metadata": {},
   "source": [
    "### Setup a private review workforce\n",
    "\n",
    "This step requires you to use the AWS Console. However, we highly recommend that you follow it, especially when creating your own task with a custom template we will use for this notebook. We will create a private workteam and add only one user (you) to it.\n",
    "\n",
    "To create a private team:\n",
    "\n",
    "   1. Go to AWS Console > Amazon SageMaker > Labeling workforces\n",
    "   1. Click \"Private\" and then \"Create private team\".\n",
    "   1. Enter the desired name for your private workteam.\n",
    "   1. Enter your own email address in the \"Email addresses\" section.\n",
    "   1. Enter the name of your organization and a contact email to administer the private workteam.\n",
    "   1. Click \"Create Private Team\".\n",
    "   1. The AWS Console should now return to AWS Console > Amazon SageMaker > Labeling workforces. Your newly created team should be visible under \"Private teams\". Next to it you will see an ARN which is a long string that looks like arn:aws:sagemaker:region-name-123456:workteam/private-crowd/team-name. Please copy this ARN to paste in the cell below.\n",
    "   1. You should get an email from no-reply@verificationemail.com that contains your workforce username and password.\n",
    "   1. In AWS Console > Amazon SageMaker > Labeling workforces, click on the URL in Labeling portal sign-in URL. Use the email/password combination from Step 8 to log in (you will be asked to create a new, non-default password).\n",
    "   1. This is your private worker's interface. When we create a verification task in Verify your task using a private team below, your task should appear in this window. You can invite your colleagues to participate in the labeling job by clicking the \"Invite new workers\" button.\n",
    "\n",
    "Please refer to the Amazon SageMaker documentation if you need more details."
   ]
  },
  {
   "cell_type": "code",
   "execution_count": null,
   "metadata": {
    "scrolled": true
   },
   "outputs": [],
   "source": [
    "# Enter the Workteam ARN from step 7 above\n",
    "WORKTEAM_ARN= '<enter-workteam-arn-here>'\n",
    " \n",
    "# Define IAM role\n",
    "role = get_execution_role()\n",
    "print(\"RoleArn: {}\".format(role))\n",
    "sess = sagemaker.Session()\n",
    "bucket = sess.default_bucket()\n",
    "prefix = 'textract-a2i-handwritten'"
   ]
  },
  {
   "cell_type": "markdown",
   "metadata": {},
   "source": [
    "## Step 1 - Use Amazon Textract to retrieve document content and inspect response\n",
    "\n",
    "In this step, we will download our test invoice from a S3 bucket to our notebook instance, and then use Amazon Textract to read the hand-written content present in the invoice line items table, and load this into a pandas dataframe for analysis."
   ]
  },
  {
   "cell_type": "markdown",
   "metadata": {},
   "source": [
    "#### Review the sample document which has both printed and handwritten content in the tables"
   ]
  },
  {
   "cell_type": "code",
   "execution_count": null,
   "metadata": {
    "scrolled": true
   },
   "outputs": [],
   "source": [
    "# Document\n",
    "documentName = \"test_handwritten_document.png\"\n",
    "\n",
    "display(Image(filename=documentName))"
   ]
  },
  {
   "cell_type": "markdown",
   "metadata": {
    "scrolled": false
   },
   "source": [
    "### Helper functions to parse Amazon Textract response\n",
    "\n",
    "We will now import the Amazon Textract Response Parser library to parse and extract what we need from Amazon Textract's response. There are two main functions here. One, we will extract the header data containing the document heading, and the form data (key-value pairs) part of the header section of the document. Two, we will parse the table and cells to create a csv file containing the tabular data. In this notebook, we will use the Textract Sync API for document extraction, [AnalyzeDocument](https://docs.aws.amazon.com/textract/latest/dg/API_AnalyzeDocument.html). This accepts image files (png or jpeg) as an input. For example, here is the code snippet for AnalyzeDocument:\n",
    "    \n",
    "    client = boto3.client(\n",
    "         service_name='textract',\n",
    "         region_name= 'us-east-1',\n",
    "         endpoint_url='https://textract.us-east-1.amazonaws.com',)\n",
    "         \n",
    "    response = client.analyze_document(Document={'Bytes': bytes_test}, FeatureTypes=['TABLES','FORMS'])\n",
    "\n",
    "Alternatively, if you would like to modify this notebook to use a PDF file or for batch processing of documents, use the [StartDocumentAnalysis API](https://docs.aws.amazon.com/textract/latest/dg/API_StartDocumentAnalysis.html). StartDocumentAnalysis returns a job identifier (JobId) that you use to get the results of the operation. When text analysis is finished, Amazon Textract publishes a completion status to the Amazon Simple Notification Service (Amazon SNS) topic that you specify in NotificationChannel. To get the results of the text analysis operation, first check that the status value published to the Amazon SNS topic is SUCCEEDED. If so, call GetDocumentAnalysis, and pass the job identifier (JobId) from the initial call to StartDocumentAnalysis."
   ]
  },
  {
   "cell_type": "code",
   "execution_count": null,
   "metadata": {},
   "outputs": [],
   "source": [
    "client = boto3.client(\n",
    "         service_name='textract',\n",
    "         region_name= 'us-east-1',\n",
    "         endpoint_url='https://textract.us-east-1.amazonaws.com',\n",
    ")"
   ]
  },
  {
   "cell_type": "code",
   "execution_count": null,
   "metadata": {},
   "outputs": [],
   "source": [
    "with open(documentName, 'rb') as file:\n",
    "        img_test = file.read()\n",
    "        bytes_test = bytearray(img_test)\n",
    "        print('Image loaded', documentName)"
   ]
  },
  {
   "cell_type": "code",
   "execution_count": null,
   "metadata": {},
   "outputs": [],
   "source": [
    "# process using image bytes\n",
    "response = client.analyze_document(Document={'Bytes': bytes_test}, FeatureTypes=['TABLES','FORMS'])"
   ]
  },
  {
   "cell_type": "markdown",
   "metadata": {},
   "source": [
    "You can use Textract response parser library to easily parser JSON returned by Amazon Textract. Library parses JSON and provides programming language specific constructs to work with different parts of the document. For more details please refer to the [Amazon Textract Parser Library](https://github.com/aws-samples/amazon-textract-response-parser/tree/master/src-python)"
   ]
  },
  {
   "cell_type": "code",
   "execution_count": null,
   "metadata": {},
   "outputs": [],
   "source": [
    "from trp import Document\n",
    "# Parse JSON response from Textract\n",
    "doc = Document(response)\n",
    "\n",
    "# Iterate over elements in the document\n",
    "for page in doc.pages:\n",
    "    # Print lines and words\n",
    "    for line in page.lines:\n",
    "        print(\"Line: {}\".format(line.text))\n",
    "        for word in line.words:\n",
    "            print(\"Word: {}\".format(word.text))\n",
    "\n",
    "    # Print tables\n",
    "    for table in page.tables:\n",
    "        for r, row in enumerate(table.rows):\n",
    "            for c, cell in enumerate(row.cells):\n",
    "                print(\"Table[{}][{}] = {}\".format(r, c, cell.text))\n",
    "\n",
    "    # Print fields\n",
    "    for field in page.form.fields:\n",
    "        print(\"Field: Key: {}, Value: {}\".format(field.key.text, field.value.text))\n",
    "\n"
   ]
  },
  {
   "cell_type": "markdown",
   "metadata": {},
   "source": [
    "Now that we have the contents we need from the document image, let's create a csv file to store it and also use it for setting up the Amazon A2I human loop for review and modification as needed."
   ]
  },
  {
   "cell_type": "code",
   "execution_count": null,
   "metadata": {},
   "outputs": [],
   "source": [
    "# Lets get the form data into a csv file\n",
    "with open('test_handwritten_form.csv', 'w', newline='') as csvfile:\n",
    "    formwriter = csv.writer(csvfile, delimiter=',',\n",
    "                            quoting=csv.QUOTE_MINIMAL)\n",
    "    for field in page.form.fields:\n",
    "        formwriter.writerow([field.key.text+\" \"+field.value.text])"
   ]
  },
  {
   "cell_type": "code",
   "execution_count": null,
   "metadata": {},
   "outputs": [],
   "source": [
    "# Lets get the table data into a csv file\n",
    "with open('test_handwritten_tab.csv', 'w', newline='') as csvfile:\n",
    "    tabwriter = csv.writer(csvfile, delimiter=',')\n",
    "    for r, row in enumerate(table.rows):\n",
    "        csvrow = []\n",
    "        for c, cell in enumerate(row.cells):\n",
    "            if cell.text:\n",
    "                csvrow.append(cell.text.rstrip())\n",
    "                #csvrow += '{}'.format(cell.text.rstrip())+\",\"\n",
    "        tabwriter.writerow(csvrow)              "
   ]
  },
  {
   "cell_type": "code",
   "execution_count": null,
   "metadata": {
    "scrolled": false
   },
   "outputs": [],
   "source": [
    "# Return the URLs of the uploaded file, so they can be reviewed or used elsewhere\n",
    "s3_img_url = S3Uploader.upload('test_handwritten_document.png', 's3://{}/{}'.format(bucket, prefix))"
   ]
  },
  {
   "cell_type": "markdown",
   "metadata": {},
   "source": [
    "## Step 2 - Inspect and analyze form line items\n",
    "\n",
    "We will now load the form line items into a pandas dataframe, and clean it up to ensure we have the relevant columns and rows that downstream applications need. We will then send it to Amazon A2I for human review, and augmentation."
   ]
  },
  {
   "cell_type": "code",
   "execution_count": null,
   "metadata": {},
   "outputs": [],
   "source": [
    "# Load the csv file contents into a dataframe, strip out extra spaces, use comma as delimiter\n",
    "df_form = pd.read_csv('test_handwritten_form.csv', header=None, quoting=csv.QUOTE_MINIMAL, sep=',')\n",
    "# Rename column\n",
    "df_form = df_form.rename(columns={df_form.columns[0]: 'FormHeader'})\n",
    "# display the dataframe\n",
    "df_form"
   ]
  },
  {
   "cell_type": "code",
   "execution_count": null,
   "metadata": {
    "scrolled": true
   },
   "outputs": [],
   "source": [
    "# Load the csv file contents into a dataframe, strip out extra spaces, use comma as delimiter\n",
    "df_tab = pd.read_csv('test_handwritten_tab.csv', header=1, quoting=csv.QUOTE_MINIMAL, sep=',')\n",
    "# display the dataframe\n",
    "df_tab.head()"
   ]
  },
  {
   "cell_type": "markdown",
   "metadata": {},
   "source": [
    "# Step 3 - Setting up Amazon A2I human loop to review Textract's low confidence responses\n",
    "\n",
    "In this step, we will send the form line items in a tabular form to an Amazon A2I human loop for review, and modifications/augmentation to the data as required. Once this is done, we will persist this updated data in a DynamoDB table so downstream applications can use for processing."
   ]
  },
  {
   "cell_type": "code",
   "execution_count": null,
   "metadata": {
    "scrolled": true
   },
   "outputs": [],
   "source": [
    "timestamp = time.strftime(\"%Y-%m-%d-%H-%M-%S\", time.gmtime())\n",
    "# Amazon SageMaker client\n",
    "sagemaker_client = boto3.client('sagemaker')\n",
    "\n",
    "# Amazon Augment AI (A2I) client\n",
    "a2i = boto3.client('sagemaker-a2i-runtime')\n",
    "\n",
    "# Amazon S3 client \n",
    "s3 = boto3.client('s3')\n",
    "\n",
    "# Flow definition name - this value is unique per account and region. You can also provide your own value here.\n",
    "flowDefinitionName = 'fd-hw-docs-' + timestamp\n",
    "\n",
    "# Task UI name - this value is unique per account and region. You can also provide your own value here.\n",
    "taskUIName = 'ui-hw-docs-' + timestamp\n",
    "\n",
    "# Flow definition outputs\n",
    "OUTPUT_PATH = f's3://{sess.default_bucket() }/{prefix}/a2i-results'"
   ]
  },
  {
   "cell_type": "markdown",
   "metadata": {},
   "source": [
    "### Step 3b - Create the human task UI\n",
    "\n",
    "Create a human task UI resource, giving a UI template in liquid html.You can download this tempalte and customize it https://github.com/aws-samples/amazon-textract-a2i-dynamodb-handwritten-tabular/blob/main/tables-keyvalue-sample.liquid.html\n",
    "This template will be rendered to the human workers whenever human loop is required. For over 70 pre built UIs, check: https://github.com/aws-samples/amazon-a2i-sample-task-uis. But first, lets declare some variables that we need during the next set of steps."
   ]
  },
  {
   "cell_type": "code",
   "execution_count": null,
   "metadata": {
    "scrolled": true
   },
   "outputs": [],
   "source": [
    "# We customized the tabular template for our notebook as below\n",
    "template = r\"\"\"\n",
    "<script src=\"https://assets.crowd.aws/crowd-html-elements.js\"></script>\n",
    "\n",
    "<style>\n",
    "  table, tr, th, td {\n",
    "    border: 1px solid black;\n",
    "    border-collapse: collapse;\n",
    "    padding: 5px;\n",
    "  }\n",
    "</style>\n",
    "\n",
    "<crowd-form>\n",
    "    <div>\n",
    "        <h1>Instructions</h1>\n",
    "        <p>Please review the form and table line items, and make corrections where appropriate. </p>\n",
    "    </div>\n",
    "   <div>\n",
    "      <h3>Original Form</h3>\n",
    "      <classification-target>\n",
    "        <img style=\"width: 100%; max-height: 40%; margin-bottom: 10px\" src=\"{{ task.input.image1 | grant_read_access }}\"/>        \n",
    "      </classification-target>     \n",
    "   </div>\n",
    "    <br>\n",
    "    <h1> Enter your corrections below </h1>\n",
    "    <table>\n",
    "    <tr>\n",
    "        <th>FORM LINE NR</th>\n",
    "        <th>ORIGINAL FORM LINE</th>\n",
    "        <th>CHANGE REQUIRED</th>\n",
    "        <th>CORRECTED FORM LINE</th>\n",
    "        <th>COMMENTS</th>\n",
    "    </tr>\n",
    "    {% for pair in task.input.Header %}\n",
    "\n",
    "        <tr>\n",
    "          <td>{{ pair.hdrrow }}</td>\n",
    "          <td><crowd-text-area name=\"predictedhdr{{ forloop.index }}\" value=\"{{ pair.orighdr }}\"></crowd-text-area></td>     \n",
    "          <td>\n",
    "            <p>\n",
    "              <input type=\"radio\" id=\"agree{{ forloop.index }}\" name=\"rating{{ forloop.index }}\" value=\"agree\" required>\n",
    "              <label for=\"agree{{ forloop.index }}\">Correct</label>\n",
    "            </p>\n",
    "            <p>\n",
    "              <input type=\"radio\" id=\"disagree{{ forloop.index }}\" name=\"rating{{ forloop.index }}\" value=\"disagree\" required>\n",
    "              <label for=\"disagree{{ forloop.index }}\">Incorrect</label>\n",
    "            </p>\n",
    "          </td>\n",
    "          <td>\n",
    "            <p>\n",
    "            <input type=\"text\" name=\"TrueHdr{{ forloop.index }}\" placeholder=\"Corrected Form Info\" />\n",
    "            </p>\n",
    "           </td>\n",
    "           <td>\n",
    "            <p>\n",
    "            <input type=\"text\" name=\"Comments{{ forloop.index }}\" placeholder=\"Explain why you changed the value\" />\n",
    "            </p>\n",
    "           </td>\n",
    "        </tr>\n",
    "\n",
    "      {% endfor %}\n",
    "    </table>\n",
    "    <br>\n",
    "    <br>\n",
    "    <table>\n",
    "      <tr>\n",
    "        <th>LINE ITEM</th>\n",
    "        <th>START DATE</th>\n",
    "        <th>END DATE</th>\n",
    "        <th>EMPLOYER NAME</th>\n",
    "        <th>POSITION HELD</th>\n",
    "        <th>REASON FOR LEAVING</th>\n",
    "        <th>CHANGE REQUIRED</th>\n",
    "        <th>TRUE START DATE</th>\n",
    "        <th>TRUE END DATE</th>\n",
    "        <th>TRUE EMPLOYER NAME</th>\n",
    "        <th>TRUE POSITION HELD</th>\n",
    "        <th>TRUE REASON FOR LEAVING</th>\n",
    "        <th>COMMENTS</th>\n",
    "      </tr>\n",
    "\n",
    "      {% for pair in task.input.Pairs %}\n",
    "\n",
    "        <tr>\n",
    "          <td>{{ pair.row }}</td>\n",
    "          <td><crowd-text-area name=\"predicted{{ forloop.index }}\" value=\"{{ pair.startdate }}\"></crowd-text-area></td>\n",
    "          <td><crowd-text-area name=\"predicted{{ forloop.index }}\" value=\"{{ pair.enddate }}\"></crowd-text-area></td>\n",
    "          <td><crowd-text-area name=\"predicted{{ forloop.index }}\" value=\"{{ pair.empname }}\"></crowd-text-area></td>\n",
    "          <td><crowd-text-area name=\"predicted{{ forloop.index }}\" value=\"{{ pair.posheld }}\"></crowd-text-area></td>\n",
    "          <td><crowd-text-area name=\"predicted{{ forloop.index }}\" value=\"{{ pair.resleave }}\"></crowd-text-area></td>\n",
    "          <td>\n",
    "            <p>\n",
    "              <input type=\"radio\" id=\"agreeline{{ forloop.index }}\" name=\"ratingline{{ forloop.index }}\" value=\"agree\" required>\n",
    "              <label for=\"agreeline{{ forloop.index }}\">Correct</label>\n",
    "            </p>\n",
    "            <p>\n",
    "              <input type=\"radio\" id=\"disagreeline{{ forloop.index }}\" name=\"ratingline{{ forloop.index }}\" value=\"disagree\" required>\n",
    "              <label for=\"disagreeline{{ forloop.index }}\">Incorrect</label>\n",
    "            </p>\n",
    "          </td>\n",
    "          <td>\n",
    "            <p>\n",
    "            <input type=\"text\" name=\"TrueStartDate{{ forloop.index }}\" placeholder=\"Corrected Start Date\" />\n",
    "            </p>\n",
    "           </td>\n",
    "           <td>\n",
    "            <p>\n",
    "            <input type=\"text\" name=\"TrueEndDate{{ forloop.index }}\" placeholder=\"Corrected End Date\" />\n",
    "            </p>\n",
    "           </td>\n",
    "          <td>\n",
    "            <p>\n",
    "            <input type=\"text\" name=\"TrueEmpName{{ forloop.index }}\" placeholder=\"Corrected Employee Name\" />\n",
    "            </p>\n",
    "           </td>\n",
    "           <td>\n",
    "            <p>\n",
    "            <input type=\"text\" name=\"TruePosHeld{{ forloop.index }}\" placeholder=\"Corrected Position Held\" />\n",
    "            </p>\n",
    "           </td>\n",
    "           <td>\n",
    "            <p>\n",
    "            <input type=\"text\" name=\"TrueResLeave{{ forloop.index }}\" placeholder=\"Corrected Reason for Leaving\" />\n",
    "            </p>\n",
    "           </td>\n",
    "           <td>\n",
    "            <p>\n",
    "            <input type=\"text\" name=\"Change Reason{{ forloop.index }}\" placeholder=\"Explain why you changed the value\" />\n",
    "            </p>\n",
    "           </td>\n",
    "        </tr>\n",
    "\n",
    "      {% endfor %}\n",
    "\n",
    "    </table>\n",
    "</crowd-form>\n",
    "\"\"\"\n",
    "\n"
   ]
  },
  {
   "cell_type": "markdown",
   "metadata": {},
   "source": [
    "After creating this custom template using HTML, you must use this template to generate an Amazon A2I human task UI Amazon Resource Name (ARN) .This ARN has the following format: arn:aws:sagemaker:<aws-region>:<aws-account-number>:human-task-ui/<template-name>. This ARN is associated with a worker task template resource that you can use in one or more human review workflows (flow definitions).Generate a human task UI ARN using a worker task template by using the CreateHumanTaskUi API operation by running the notebook cell below:"
   ]
  },
  {
   "cell_type": "code",
   "execution_count": null,
   "metadata": {},
   "outputs": [],
   "source": [
    "def create_task_ui():\n",
    "    '''\n",
    "    Creates a Human Task UI resource.\n",
    "\n",
    "    Returns:\n",
    "    struct: HumanTaskUiArn\n",
    "    '''\n",
    "    response = sagemaker_client.create_human_task_ui(\n",
    "        HumanTaskUiName=taskUIName,\n",
    "        UiTemplate={'Content': template})\n",
    "    return response"
   ]
  },
  {
   "cell_type": "code",
   "execution_count": null,
   "metadata": {
    "scrolled": true
   },
   "outputs": [],
   "source": [
    "# Create task UI\n",
    "humanTaskUiResponse = create_task_ui()\n",
    "humanTaskUiArn = humanTaskUiResponse['HumanTaskUiArn']\n",
    "print(humanTaskUiArn)"
   ]
  },
  {
   "cell_type": "markdown",
   "metadata": {},
   "source": [
    "### Step 3b - Create the Flow Definition\n",
    "In this section, we're going to create a flow definition definition. Flow Definitions allow us to specify:\n",
    "\n",
    "* The workforce that your tasks will be sent to.\n",
    "* The instructions that your workforce will receive. This is called a worker task template.\n",
    "* Where your output data will be stored.\n",
    "* This demo is going to use the API, but you can optionally create this workflow definition in the console as well. \n",
    "\n",
    "For more details and instructions, see: https://docs.aws.amazon.com/sagemaker/latest/dg/a2i-create-flow-definition.html."
   ]
  },
  {
   "cell_type": "code",
   "execution_count": null,
   "metadata": {
    "scrolled": true
   },
   "outputs": [],
   "source": [
    "create_workflow_definition_response = sagemaker_client.create_flow_definition(\n",
    "        FlowDefinitionName= flowDefinitionName,\n",
    "        RoleArn= role,\n",
    "        HumanLoopConfig= {\n",
    "            \"WorkteamArn\": WORKTEAM_ARN,\n",
    "            \"HumanTaskUiArn\": humanTaskUiArn,\n",
    "            \"TaskCount\": 1,\n",
    "            \"TaskDescription\": \"Review the contents and correct values as indicated\",\n",
    "            \"TaskTitle\": \"Employment History Review\"\n",
    "        },\n",
    "        OutputConfig={\n",
    "            \"S3OutputPath\" : OUTPUT_PATH\n",
    "        }\n",
    "    )\n",
    "flowDefinitionArn = create_workflow_definition_response['FlowDefinitionArn'] # let's save this ARN for future use"
   ]
  },
  {
   "cell_type": "code",
   "execution_count": null,
   "metadata": {
    "scrolled": true
   },
   "outputs": [],
   "source": [
    "for x in range(60):\n",
    "    describeFlowDefinitionResponse = sagemaker_client.describe_flow_definition(FlowDefinitionName=flowDefinitionName)\n",
    "    print(describeFlowDefinitionResponse['FlowDefinitionStatus'])\n",
    "    if (describeFlowDefinitionResponse['FlowDefinitionStatus'] == 'Active'):\n",
    "        print(\"Flow Definition is active\")\n",
    "        break\n",
    "    time.sleep(2)"
   ]
  },
  {
   "cell_type": "markdown",
   "metadata": {},
   "source": [
    "# Sending predictions to Amazon A2I human loops"
   ]
  },
  {
   "cell_type": "code",
   "execution_count": null,
   "metadata": {
    "scrolled": true
   },
   "outputs": [],
   "source": [
    "NUM_TO_REVIEW = len(df_tab) # number of line items to review\n",
    "dfstart = df_tab['Start Date'].to_list()\n",
    "dfend = df_tab['End Date'].to_list()\n",
    "dfemp = df_tab['Employer Name'].to_list()\n",
    "dfpos = df_tab['Position Held'].to_list()\n",
    "dfres = df_tab['Reason for leaving'].to_list()\n",
    "item_list = [{'row': \"{}\".format(x), 'startdate': dfstart[x], 'enddate': dfend[x], 'empname': dfemp[x], 'posheld': dfpos[x], 'resleave': dfres[x]} for x in range(NUM_TO_REVIEW)]\n",
    "item_list"
   ]
  },
  {
   "cell_type": "code",
   "execution_count": null,
   "metadata": {},
   "outputs": [],
   "source": [
    "dforighdr = df_form['FormHeader'].to_list()\n",
    "hdr_list = [{'hdrrow': \"{}\".format(x), 'orighdr': dforighdr[x]} for x in range(len(df_form))]\n",
    "hdr_list"
   ]
  },
  {
   "cell_type": "code",
   "execution_count": null,
   "metadata": {
    "scrolled": true
   },
   "outputs": [],
   "source": [
    "ip_content = {\"Header\": hdr_list,\n",
    "              'Pairs': item_list,\n",
    "              'image1': s3_img_url\n",
    "             }"
   ]
  },
  {
   "cell_type": "code",
   "execution_count": null,
   "metadata": {
    "scrolled": true
   },
   "outputs": [],
   "source": [
    "# Activate human loops\n",
    "import json\n",
    "humanLoopName = str(uuid.uuid4())\n",
    "\n",
    "start_loop_response = a2i.start_human_loop(\n",
    "            HumanLoopName=humanLoopName,\n",
    "            FlowDefinitionArn=flowDefinitionArn,\n",
    "            HumanLoopInput={\n",
    "                \"InputContent\": json.dumps(ip_content)\n",
    "            }\n",
    "        )"
   ]
  },
  {
   "cell_type": "markdown",
   "metadata": {},
   "source": [
    "Check status of human loop"
   ]
  },
  {
   "cell_type": "code",
   "execution_count": null,
   "metadata": {
    "scrolled": true
   },
   "outputs": [],
   "source": [
    "completed_human_loops = []\n",
    "resp = a2i.describe_human_loop(HumanLoopName=humanLoopName)\n",
    "print(f'HumanLoop Name: {humanLoopName}')\n",
    "print(f'HumanLoop Status: {resp[\"HumanLoopStatus\"]}')\n",
    "print(f'HumanLoop Output Destination: {resp[\"HumanLoopOutput\"]}')\n",
    "print('\\n')\n",
    "   \n",
    "      \n",
    "if resp[\"HumanLoopStatus\"] == \"Completed\":\n",
    "    completed_human_loops.append(resp)"
   ]
  },
  {
   "cell_type": "code",
   "execution_count": null,
   "metadata": {
    "scrolled": true
   },
   "outputs": [],
   "source": [
    "workteamName = WORKTEAM_ARN[WORKTEAM_ARN.rfind('/') + 1:]\n",
    "print(\"Navigate to the private worker portal and do the tasks. Make sure you've invited yourself to your workteam!\")\n",
    "print('https://' + sagemaker_client.describe_workteam(WorkteamName=workteamName)['Workteam']['SubDomain'])"
   ]
  },
  {
   "cell_type": "code",
   "execution_count": null,
   "metadata": {
    "scrolled": true
   },
   "outputs": [],
   "source": [
    "completed_human_loops = []\n",
    "resp = a2i.describe_human_loop(HumanLoopName=humanLoopName)\n",
    "print(f'HumanLoop Name: {humanLoopName}')\n",
    "print(f'HumanLoop Status: {resp[\"HumanLoopStatus\"]}')\n",
    "print(f'HumanLoop Output Destination: {resp[\"HumanLoopOutput\"]}')\n",
    "print('\\n')\n",
    "    \n",
    "if resp[\"HumanLoopStatus\"] == \"Completed\":\n",
    "    completed_human_loops.append(resp)"
   ]
  },
  {
   "cell_type": "markdown",
   "metadata": {},
   "source": [
    "#### Let's review the annotation output"
   ]
  },
  {
   "cell_type": "code",
   "execution_count": null,
   "metadata": {
    "scrolled": true
   },
   "outputs": [],
   "source": [
    "import re\n",
    "import pprint\n",
    "\n",
    "pp = pprint.PrettyPrinter(indent=4)\n",
    "\n",
    "for resp in completed_human_loops:\n",
    "    splitted_string = re.split('s3://' + sess.default_bucket()  + '/', resp['HumanLoopOutput']['OutputS3Uri'])\n",
    "    output_bucket_key = splitted_string[1]\n",
    "    response = s3.get_object(Bucket=bucket, Key=output_bucket_key)\n",
    "    content = response[\"Body\"].read()\n",
    "    json_output = json.loads(content)\n",
    "    pp.pprint(json_output)\n",
    "    print('\\n')"
   ]
  },
  {
   "cell_type": "markdown",
   "metadata": {},
   "source": [
    "## Step 5 - Store the results in DynamoDB\n",
    "\n",
    "We will now store the form with updated contents into a DynamoDB table, so downstream applications can make use of it. To automate the process, simply setup an [AWS Lambda trigger with DynamoDB](https://docs.aws.amazon.com/amazondynamodb/latest/developerguide/Streams.Lambda.html), to automatically extract and send information to your API endpoints or applications."
   ]
  },
  {
   "cell_type": "markdown",
   "metadata": {},
   "source": [
    "#### First let's append the changed values to the existing dataframe we used for analysis"
   ]
  },
  {
   "cell_type": "code",
   "execution_count": null,
   "metadata": {},
   "outputs": [],
   "source": [
    "df_form"
   ]
  },
  {
   "cell_type": "code",
   "execution_count": null,
   "metadata": {
    "scrolled": true
   },
   "outputs": [],
   "source": [
    "df_tab.head()"
   ]
  },
  {
   "cell_type": "code",
   "execution_count": null,
   "metadata": {},
   "outputs": [],
   "source": [
    "#updated array values to be strings for dataframe assignment\n",
    "for i in json_output['humanAnswers']:\n",
    "    x = i['answerContent']\n",
    "        \n",
    "for j in range(0, len(df_form)):    \n",
    "    df_form.at[j, 'TrueHeader'] = str(x.get('TrueHdr'+str(j+1)))\n",
    "    df_form.at[j, 'Comments'] = str(x.get('Comments'+str(j+1)))\n",
    "    \n",
    "    \n",
    "df_form = df_form.where(df_form.notnull(), None)"
   ]
  },
  {
   "cell_type": "code",
   "execution_count": null,
   "metadata": {
    "scrolled": true
   },
   "outputs": [],
   "source": [
    "#updated array values to be strings for dataframe assignment\n",
    "for i in json_output['humanAnswers']:\n",
    "    x = i['answerContent']\n",
    "        \n",
    "for j in range(0, len(df_tab)):    \n",
    "    df_tab.at[j, 'TrueStartDate'] = str(x.get('TrueStartDate'+str(j+1)))\n",
    "    df_tab.at[j, 'TrueEndDate'] = str(x.get('TrueEndDate'+str(j+1)))\n",
    "    df_tab.at[j, 'TrueEmpName'] = str(x.get('TrueEmpName'+str(j+1)))    \n",
    "    df_tab.at[j, 'TruePosHeld'] = str(x.get('TruePosHeld'+str(j+1)))\n",
    "    df_tab.at[j, 'TrueResLeave'] = str(x.get('TrueResLeave'+str(j+1)))\n",
    "    df_tab.at[j, 'ChangeComments'] = str(x.get('Change Reason'+str(j+1)))\n",
    "    \n",
    "df_tab = df_tab.where(df_tab.notnull(), None)"
   ]
  },
  {
   "cell_type": "code",
   "execution_count": null,
   "metadata": {},
   "outputs": [],
   "source": [
    "# Join both the dataframes to prep for insert into DynamoDB\n",
    "df_doc = df_form.join(df_tab, how='outer')\n",
    "df_doc = df_doc.where(df_doc.notnull(), None)\n",
    "df_doc"
   ]
  },
  {
   "cell_type": "markdown",
   "metadata": {},
   "source": [
    "#### Create the DynamoDB table"
   ]
  },
  {
   "cell_type": "code",
   "execution_count": null,
   "metadata": {
    "scrolled": true
   },
   "outputs": [],
   "source": [
    "# Get the service resource.\n",
    "dynamodb = boto3.resource('dynamodb')\n",
    "tablename = \"emp_hist-\"+str(uuid.uuid4())\n",
    "\n",
    "# Create the DynamoDB table.\n",
    "table = dynamodb.create_table(\n",
    "    TableName=tablename,\n",
    "    KeySchema=[\n",
    "        {\n",
    "            'AttributeName': 'line_nr',\n",
    "            'KeyType': 'HASH'\n",
    "        }\n",
    "    ],\n",
    "    AttributeDefinitions=[\n",
    "        {\n",
    "            'AttributeName': 'line_nr',\n",
    "            'AttributeType': 'N'\n",
    "        },\n",
    "    ],\n",
    "    ProvisionedThroughput={\n",
    "        'ReadCapacityUnits': 5,\n",
    "        'WriteCapacityUnits': 5\n",
    "    }\n",
    ")\n",
    "\n",
    "# Wait until the table exists, this will take a minute or so\n",
    "table.meta.client.get_waiter('table_exists').wait(TableName=tablename)\n",
    "\n",
    "# Print out some data about the table.\n",
    "print(\"Table successfully created. Item count is: \" + str(table.item_count))"
   ]
  },
  {
   "cell_type": "markdown",
   "metadata": {},
   "source": [
    "#### Upload the contents of the dataframe into DynamoDB table"
   ]
  },
  {
   "cell_type": "code",
   "execution_count": null,
   "metadata": {
    "scrolled": true
   },
   "outputs": [],
   "source": [
    "\n",
    "for idx, row in df_doc.iterrows():\n",
    "    table.put_item(\n",
    "       Item={\n",
    "        'line_nr': idx,\n",
    "        'orig_hdr': str(row['FormHeader']) ,\n",
    "        'true_hdr': str(row['TrueHeader']),\n",
    "        'comments': str(row['Comments']),   \n",
    "        'start_date': str(row['Start Date']),\n",
    "        'end_date': str(row['End Date']),\n",
    "        'emp_name': str(row['Employer Name']),\n",
    "        'position_held': str(row['Position Held']),\n",
    "        'reason_for_leaving': str(row['Reason for leaving']),\n",
    "        'true_start_date': str(row['TrueStartDate']),\n",
    "        'true_end_date': str(row['TrueEndDate']),   \n",
    "        'true_emp_name': str(row['TrueEmpName']),\n",
    "        'true_position_held': str(row['TruePosHeld']),\n",
    "        'true_reason_for_leaving': str(row['TrueResLeave']),\n",
    "        'change_comments': str(row['ChangeComments'])   \n",
    "        }\n",
    "    )\n",
    "\n",
    "print(\"Items were successfully created in DynamoDB table\")"
   ]
  },
  {
   "cell_type": "markdown",
   "metadata": {},
   "source": [
    "#### Check if items were updated"
   ]
  },
  {
   "cell_type": "code",
   "execution_count": null,
   "metadata": {
    "scrolled": true
   },
   "outputs": [],
   "source": [
    "response = table.get_item(\n",
    "    Key={\n",
    "        'line_nr': 2\n",
    "    }\n",
    ")\n",
    "item = response['Item']\n",
    "print(item)"
   ]
  },
  {
   "cell_type": "code",
   "execution_count": null,
   "metadata": {},
   "outputs": [],
   "source": [
    "print(tablename)"
   ]
  },
  {
   "cell_type": "markdown",
   "metadata": {},
   "source": [
    "## Conclusion"
   ]
  },
  {
   "cell_type": "markdown",
   "metadata": {},
   "source": [
    "This post demonstrated how easy it is to use services in the AI layer of AWS AI/ML stack, such as Amazon Textract and Amazon A2I, to read and process tabular data from hand-written forms, and store them in a DynamoDB table for use by downstream applications. You can also send the augmented form data from Amazon A2I to an Amazon S3 bucket to be consumed by your AWS Analytics applications.\n",
    "\n",
    "For video presentations, sample Jupyter notebooks, or more information about use cases like document processing, content moderation, sentiment analysis, text translation, and more, see [Amazon Augmented AI Resources](https://aws.amazon.com/augmented-ai/resources/). We’re interested in how you want to extend this solution for your use case and welcome your feedback."
   ]
  }
 ],
 "metadata": {
  "kernelspec": {
   "display_name": "conda_python3",
   "language": "python",
   "name": "conda_python3"
  },
  "language_info": {
   "codemirror_mode": {
    "name": "ipython",
    "version": 3
   },
   "file_extension": ".py",
   "mimetype": "text/x-python",
   "name": "python",
   "nbconvert_exporter": "python",
   "pygments_lexer": "ipython3",
   "version": "3.6.10"
  }
 },
 "nbformat": 4,
 "nbformat_minor": 4
}
